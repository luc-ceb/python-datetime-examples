{
 "cells": [
  {
   "cell_type": "markdown",
   "id": "ed26541e",
   "metadata": {},
   "source": [
    "### Working with Date and Time in Pandas"
   ]
  },
  {
   "cell_type": "code",
   "execution_count": 1,
   "id": "53a666d1",
   "metadata": {},
   "outputs": [],
   "source": [
    "import pandas as pd\n",
    "import datetime as dt"
   ]
  },
  {
   "cell_type": "markdown",
   "id": "3feb9bb0",
   "metadata": {},
   "source": [
    "### Rewiew Python's `datetime` module"
   ]
  },
  {
   "cell_type": "code",
   "execution_count": 2,
   "id": "fb8ff553",
   "metadata": {},
   "outputs": [],
   "source": [
    "today = dt.date(2019, 12, 22)"
   ]
  },
  {
   "cell_type": "code",
   "execution_count": 4,
   "id": "11366f20",
   "metadata": {},
   "outputs": [
    {
     "data": {
      "text/plain": [
       "2019"
      ]
     },
     "execution_count": 4,
     "metadata": {},
     "output_type": "execute_result"
    }
   ],
   "source": [
    "today.day\n",
    "today.month\n",
    "today.year"
   ]
  },
  {
   "cell_type": "code",
   "execution_count": 5,
   "id": "d503c5db",
   "metadata": {},
   "outputs": [],
   "source": [
    "today = dt.datetime(2019, 12, 22, 17, 13, 34)"
   ]
  },
  {
   "cell_type": "code",
   "execution_count": 6,
   "id": "73aa6a1a",
   "metadata": {},
   "outputs": [
    {
     "name": "stdout",
     "output_type": "stream",
     "text": [
      "2019-12-22 17:13:34\n"
     ]
    }
   ],
   "source": [
    "print(today)"
   ]
  },
  {
   "cell_type": "code",
   "execution_count": 9,
   "id": "ca860e3c",
   "metadata": {},
   "outputs": [
    {
     "data": {
      "text/plain": [
       "34"
      ]
     },
     "execution_count": 9,
     "metadata": {},
     "output_type": "execute_result"
    }
   ],
   "source": [
    "today.second"
   ]
  },
  {
   "cell_type": "markdown",
   "id": "8965186a",
   "metadata": {},
   "source": [
    "### `Timestamp` de Pandas"
   ]
  },
  {
   "cell_type": "code",
   "execution_count": 14,
   "id": "b60d3316",
   "metadata": {},
   "outputs": [
    {
     "data": {
      "text/plain": [
       "Timestamp('2019-12-22 17:23:45')"
      ]
     },
     "execution_count": 14,
     "metadata": {},
     "output_type": "execute_result"
    }
   ],
   "source": [
    "# Distintos formatos, todos validos\n",
    "pd.Timestamp(\"2019-12-22\")\n",
    "pd.Timestamp(\"2019/12/22\")\n",
    "pd.Timestamp(\"2019, 12, 22\")\n",
    "pd.Timestamp(\"2019-12-22 17:23:45\")\n",
    "pd.Timestamp(\"2019-12-22 05:23:45 PM\")"
   ]
  },
  {
   "cell_type": "markdown",
   "id": "1d5d32fa",
   "metadata": {},
   "source": [
    "### `DateTimeIndex` de Pandas"
   ]
  },
  {
   "cell_type": "code",
   "execution_count": 15,
   "id": "a8064f3a",
   "metadata": {},
   "outputs": [],
   "source": [
    "dates = ['2019/12/22', '2019/12/23', '2019/12/24'] "
   ]
  },
  {
   "cell_type": "code",
   "execution_count": 16,
   "id": "7ff00c43",
   "metadata": {},
   "outputs": [
    {
     "data": {
      "text/plain": [
       "DatetimeIndex(['2019-12-22', '2019-12-23', '2019-12-24'], dtype='datetime64[ns]', freq=None)"
      ]
     },
     "execution_count": 16,
     "metadata": {},
     "output_type": "execute_result"
    }
   ],
   "source": [
    "pd.DatetimeIndex(dates)"
   ]
  },
  {
   "cell_type": "code",
   "execution_count": 18,
   "id": "2fb25655",
   "metadata": {},
   "outputs": [
    {
     "data": {
      "text/plain": [
       "list"
      ]
     },
     "execution_count": 18,
     "metadata": {},
     "output_type": "execute_result"
    }
   ],
   "source": [
    "type(dates)"
   ]
  },
  {
   "cell_type": "code",
   "execution_count": null,
   "id": "86b1169f",
   "metadata": {},
   "outputs": [],
   "source": []
  }
 ],
 "metadata": {
  "kernelspec": {
   "display_name": "Python 3 (ipykernel)",
   "language": "python",
   "name": "python3"
  },
  "language_info": {
   "codemirror_mode": {
    "name": "ipython",
    "version": 3
   },
   "file_extension": ".py",
   "mimetype": "text/x-python",
   "name": "python",
   "nbconvert_exporter": "python",
   "pygments_lexer": "ipython3",
   "version": "3.8.10"
  }
 },
 "nbformat": 4,
 "nbformat_minor": 5
}
